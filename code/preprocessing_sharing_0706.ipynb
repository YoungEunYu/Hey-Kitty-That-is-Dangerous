{
 "cells": [
  {
   "cell_type": "code",
   "execution_count": 29,
   "metadata": {},
   "outputs": [
    {
     "name": "stdout",
     "output_type": "stream",
     "text": [
      "Requirement already satisfied: pillow in c:\\dev\\github\\explore\\.venv\\lib\\site-packages (10.0.0)Note: you may need to restart the kernel to use updated packages.\n",
      "\n"
     ]
    }
   ],
   "source": [
    "pip install pillow\n"
   ]
  },
  {
   "cell_type": "code",
   "execution_count": 30,
   "metadata": {},
   "outputs": [],
   "source": [
    "import numpy as np\n",
    "import pandas as pd\n",
    "import os\n",
    "import matplotlib\n",
    "import matplotlib.pyplot as plt\n",
    "%matplotlib inline \n",
    "import cv2 \n",
    "from PIL import Image, ImageOps, ImageFilter\n",
    "import sys\n",
    "from pathlib import Path"
   ]
  },
  {
   "attachments": {},
   "cell_type": "markdown",
   "metadata": {},
   "source": [
    "# 실행전 확인\n",
    "\n",
    "- 원본이미지의 폴더 path\n",
    "- 필터링적용한 이미지가 저장될 폴더 path\n",
    "\n",
    "- 위의 두 폴더 path확인해  `save_filtered_images` 함수에 넣어줘야 함"
   ]
  },
  {
   "attachments": {},
   "cell_type": "markdown",
   "metadata": {},
   "source": [
    "## 함수 정의\n",
    "\n",
    "- 이미지 파일이 있는 폴더에서 이미지를 하나하나 가져와 필터를 적용하는 함수임"
   ]
  },
  {
   "cell_type": "code",
   "execution_count": 31,
   "metadata": {},
   "outputs": [],
   "source": [
    "def save_filtered_images(directory, filter_func, output_directory):\n",
    "    # 출력 디렉토리가 없는 경우 생성\n",
    "    if not os.path.exists(output_directory):\n",
    "        os.makedirs(output_directory)\n",
    "\n",
    "    # 디렉토리 내의 파일들을 모두 가져옴\n",
    "    files = os.listdir(directory)\n",
    "\n",
    "    for file in files:\n",
    "        # 파일의 확장자 확인\n",
    "        _, extension = os.path.splitext(file)\n",
    "        if extension.lower() in ['.jpg', '.jpeg', '.png', '.gif']:\n",
    "            # 이미지 파일인 경우에만 필터링을 적용\n",
    "            image_path = os.path.join(directory, file)\n",
    "            image = Image.open(image_path)\n",
    "            filtered_image = filter_func(image)\n",
    "            # 저장할 파일 경로와 이름 생성\n",
    "            file_name = f\"{filter_func.__name__}_{file}\"  # 새로운 이름 설정\n",
    "            output_path = os.path.join(output_directory, file_name)\n",
    "            filtered_image.save(output_path)\n",
    "\n",
    "# 이미지 필터링을 적용할 디렉토리 경로\n",
    "directory_path = r'C:/dev/github/explore/webcam/tv'\n",
    "# 필터링된 이미지를 저장할 디렉토리 경로\n",
    "output_directory_path = r'C:/dev/github/explore/webcam/transform_tv'"
   ]
  },
  {
   "attachments": {},
   "cell_type": "markdown",
   "metadata": {},
   "source": [
    "## 필터정의"
   ]
  },
  {
   "cell_type": "code",
   "execution_count": 32,
   "metadata": {},
   "outputs": [],
   "source": [
    "# roboflow 에서 (640,640)으로 일괄조정 예정 : 추후 사이즈 문제 발생시 알아서 적용하기\n",
    "# def resize_image(image):\n",
    "#     size = (256, 256)   ### 사이즈 지정\n",
    "#     resized_image = image.resize(size)\n",
    "#     return resized_image"
   ]
  },
  {
   "attachments": {},
   "cell_type": "markdown",
   "metadata": {},
   "source": [
    "rotation \n",
    "\n",
    "- 각도값 다양하게 변경해 적용가능"
   ]
  },
  {
   "cell_type": "code",
   "execution_count": 33,
   "metadata": {},
   "outputs": [],
   "source": [
    "# Rotation : 각도 변경해서 사용가능\n",
    "def rotate_image(image):\n",
    "    rotated_image = image.rotate(45, expand=True)   ### 각도\n",
    "    return rotated_image\n",
    "\n",
    "def rotate_image_90(image):\n",
    "    rotate_image_90 = image.rotate(90, expand=True)  \n",
    "    return rotate_image_90\n",
    "\n",
    "def rotate_image_270(image):\n",
    "    rotate_image_270 = image.rotate(270, expand=True)  \n",
    "    return rotate_image_270\n",
    "\n",
    "# save_filtered_images(directory_path, rotate_image, output_directory_path)\n",
    "# save_filtered_images(directory_path, rotate_image_90, output_directory_path)\n",
    "# save_filtered_images(directory_path, rotate_image_270, output_directory_path)"
   ]
  },
  {
   "attachments": {},
   "cell_type": "markdown",
   "metadata": {},
   "source": [
    "예시 확인코드"
   ]
  },
  {
   "cell_type": "code",
   "execution_count": 34,
   "metadata": {},
   "outputs": [],
   "source": [
    "# 예시 사진으로 결과물 확인가능\n",
    "# image = r'C:\\dev\\github\\.venv\\03_final_pjt\\.venv\\preprocessing\\data\\00001496_004.jpg'  # 대상 이미지\n",
    "# image = Image.open(image)\n",
    "# rotate_image(image)"
   ]
  },
  {
   "attachments": {},
   "cell_type": "markdown",
   "metadata": {},
   "source": [
    "blurring\n",
    "\n",
    "- kernal size 조정해 사용가능\n",
    "- gaussizan의 경우는 홀수값만 적용가능"
   ]
  },
  {
   "cell_type": "code",
   "execution_count": 35,
   "metadata": {},
   "outputs": [],
   "source": [
    "# blurring - blur filter \n",
    "def blur_filter(image):\n",
    "    blur_filter = image.filter(ImageFilter.BLUR)\n",
    "    return blur_filter\n",
    "\n",
    "# blurring - Kernal size = 10\n",
    "def blur_kernal(image):\n",
    "    image_array = np.array(image)\n",
    "    blur_kernel = cv2.blur(image_array, (10, 10))\n",
    "    blur_kernel = Image.fromarray(blur_kernel)\n",
    "    return blur_kernel\n",
    "\n",
    "# blurring - blur_gaussian = 21\n",
    "def blur_gaussian(image):\n",
    "    image_array = np.array(image)\n",
    "    blur_gaussian = cv2.medianBlur(image_array, 21)  ### 양의 홀수값만 사용가능\n",
    "    blur_gaussian = Image.fromarray(blur_gaussian)\n",
    "    return blur_gaussian\n",
    "\n",
    "def smoothing(image):\n",
    "    smoothing = image.filter(ImageFilter.SMOOTH)\n",
    "    return smoothing\n",
    "\n",
    "# save_filtered_images(directory_path, blur_filter, output_directory_path)\n",
    "# save_filtered_images(directory_path, blur_kernal, output_directory_path)\n",
    "# save_filtered_images(directory_path, blur_gaussian, output_directory_path)\n",
    "# save_filtered_images(directory_path, smoothing, output_directory_path)"
   ]
  },
  {
   "attachments": {},
   "cell_type": "markdown",
   "metadata": {},
   "source": [
    "edge"
   ]
  },
  {
   "cell_type": "code",
   "execution_count": 36,
   "metadata": {},
   "outputs": [],
   "source": [
    "# edge - fineedge \n",
    "def edge_fineedge(image):\n",
    "    image = np.array(image)\n",
    "    image_gray = Image.fromarray(image).convert('L')\n",
    "    edge_fineedge = image_gray.filter(ImageFilter.FIND_EDGES)\n",
    "    return edge_fineedge\n",
    "\n",
    "# edge - smooth \n",
    "def edge_smooth(image):\n",
    "    image = np.array(image)\n",
    "    image_gray = Image.fromarray(image).convert('L')\n",
    "    edge_smooth = image_gray.filter(ImageFilter.SMOOTH)\n",
    "    return edge_smooth\n",
    "\n",
    "# edge - enhance\n",
    "def edge_enhance(image):\n",
    "    image = np.array(image)\n",
    "    image_gray = Image.fromarray(image.astype('uint8')).convert('L')\n",
    "    # image_gray = Image.fromarray(image).convert('L')\n",
    "    edge_enhance = image_gray.filter(ImageFilter.EDGE_ENHANCE)\n",
    "    return edge_enhance\n",
    "\n",
    "# edge - gaussian\n",
    "def edge_gaussian(image):\n",
    "    image = np.array(image)\n",
    "    image_gray = cv2.cvtColor(image, cv2.COLOR_BGR2GRAY)\n",
    "    edge_gaussian = cv2.GaussianBlur(image_gray, (5,5), 0)\n",
    "    edge_gaussian = Image.fromarray(edge_gaussian)\n",
    "    return edge_gaussian\n",
    "\n",
    "# edge - canny\n",
    "def edge_canny(image):\n",
    "    image = np.array(image)\n",
    "    image_gray = cv2.cvtColor(image, cv2.COLOR_BGR2GRAY)\n",
    "    edge_canny = cv2.Canny(image_gray, 50, 300)\n",
    "    edge_canny = Image.fromarray(edge_canny)\n",
    "    return edge_canny"
   ]
  },
  {
   "cell_type": "code",
   "execution_count": 37,
   "metadata": {},
   "outputs": [],
   "source": [
    "# save_filtered_images(directory_path, edge_fineedge, output_directory_path)\n",
    "# save_filtered_images(directory_path, edge_smooth, output_directory_path)\n",
    "# save_filtered_images(directory_path, edge_enhance, output_directory_path)\n",
    "# save_filtered_images(directory_path, edge_gaussian, output_directory_path)\n",
    "# save_filtered_images(directory_path, edge_canny, output_directory_path)"
   ]
  },
  {
   "attachments": {},
   "cell_type": "markdown",
   "metadata": {},
   "source": [
    "threshold"
   ]
  },
  {
   "cell_type": "code",
   "execution_count": 38,
   "metadata": {},
   "outputs": [],
   "source": [
    "# adj_threshold = 100\n",
    "def adj_threshold(image):\n",
    "    image_gray = image.convert('L')\n",
    "    threshold = 100\n",
    "    adj_threshold = image_gray.point(lambda x: 255 if x > threshold else 0)\n",
    "    return adj_threshold\n",
    "\n",
    "def adj_threshold_150(image):\n",
    "    image_gray = image.convert('L')\n",
    "    threshold = 150\n",
    "    adj_threshold_150 = image_gray.point(lambda x: 255 if x > threshold else 0)\n",
    "    return adj_threshold_150\n",
    "\n",
    "# thresholding - equalized\n",
    "def threshold_equalized(image):\n",
    "    image_gray = image.convert('L')\n",
    "    threshold_value = 128\n",
    "    image_thresholded = image_gray.point(lambda x: 255 if x >= threshold_value else 0)  # Thresholding\n",
    "    image_filtered = image_thresholded.filter(ImageFilter.BLUR)  # Apply a blurring filter\n",
    "    threshold_equalized = ImageOps.equalize(image_filtered)  # Apply histogram equalization\n",
    "    return threshold_equalized\n",
    "\n",
    "# thresholding - gaussian\n",
    "def adaptiveThreshold_gaussian(image):\n",
    "    image_gray = np.array(image.convert('L'))\n",
    "    adaptiveThreshold_gaussian = cv2.adaptiveThreshold(image_gray,255, cv2.ADAPTIVE_THRESH_GAUSSIAN_C, cv2.THRESH_BINARY, 11, 2)\n",
    "    adaptiveThreshold_gaussian = Image.fromarray(adaptiveThreshold_gaussian)\n",
    "    return adaptiveThreshold_gaussian\n",
    "\n",
    "# thresholding - mean\n",
    "def adaptiveThreshold_mean(image):\n",
    "    image_gray = np.array(image.convert('L'))\n",
    "    adaptiveThreshold_mean = cv2.adaptiveThreshold(image_gray, 255, cv2.ADAPTIVE_THRESH_MEAN_C, cv2.THRESH_BINARY, 11, 2)\n",
    "    adaptiveThreshold_mean = Image.fromarray(adaptiveThreshold_mean)\n",
    "    return adaptiveThreshold_mean"
   ]
  },
  {
   "cell_type": "code",
   "execution_count": 39,
   "metadata": {},
   "outputs": [],
   "source": [
    "# save_filtered_images(directory_path, adj_threshold, output_directory_path)\n",
    "# save_filtered_images(directory_path, threshold_equalized, output_directory_path)\n",
    "# save_filtered_images(directory_path, adaptiveThreshold_gaussian, output_directory_path)\n",
    "# save_filtered_images(directory_path, adaptiveThreshold_mean, output_directory_path)"
   ]
  },
  {
   "attachments": {},
   "cell_type": "markdown",
   "metadata": {},
   "source": [
    "erosion, dilation\n",
    " - 반복횟수 iterations를 크게할수록 뭉개짐"
   ]
  },
  {
   "cell_type": "code",
   "execution_count": 40,
   "metadata": {},
   "outputs": [],
   "source": [
    "# Erosion\n",
    "def erosion(image):\n",
    "    image_gray = np.array(image.convert('L'))\n",
    "    kernel = np.ones((3,3), np.uint8)\n",
    "    erosion = cv2.erode(image_gray, kernel, iterations=1) # 반복횟수 iterations=1 (많이하면 뭉개짐)\n",
    "    erosion = Image.fromarray(erosion)\n",
    "    return erosion\n",
    "\n",
    "# Dilation\n",
    "def diilation(image):\n",
    "    image_gray = np.array(image.convert('L'))\n",
    "    kernel = np.ones((3,3), np.uint8)\n",
    "    dilation = cv2.dilate(image_gray, kernel, iterations=3)\n",
    "    dilation = Image.fromarray(dilation)\n",
    "    return dilation"
   ]
  },
  {
   "cell_type": "code",
   "execution_count": 41,
   "metadata": {},
   "outputs": [],
   "source": [
    "# save_filtered_images(directory_path, erosion, output_directory_path)\n",
    "# save_filtered_images(directory_path, diilation, output_directory_path)"
   ]
  },
  {
   "attachments": {},
   "cell_type": "markdown",
   "metadata": {},
   "source": [
    "## 실행\n",
    "\n",
    " - 필터당 한개의 실행함수가 있음\n",
    " - 아래 실행시 대상폴더에 필터링이 적용된 파일들이 저장됨"
   ]
  },
  {
   "cell_type": "code",
   "execution_count": 42,
   "metadata": {},
   "outputs": [],
   "source": [
    "# rotation\n",
    "save_filtered_images(directory_path, rotate_image, output_directory_path)\n",
    "# blurring\n",
    "save_filtered_images(directory_path, blur_filter, output_directory_path)\n",
    "save_filtered_images(directory_path, blur_kernal, output_directory_path)\n",
    "save_filtered_images(directory_path, blur_gaussian, output_directory_path)\n",
    "save_filtered_images(directory_path, smoothing, output_directory_path)\n",
    "# edge\n",
    "save_filtered_images(directory_path, edge_fineedge, output_directory_path)\n",
    "save_filtered_images(directory_path, edge_smooth, output_directory_path)\n",
    "save_filtered_images(directory_path, edge_enhance, output_directory_path)\n",
    "save_filtered_images(directory_path, edge_gaussian, output_directory_path)\n",
    "save_filtered_images(directory_path, edge_canny, output_directory_path)\n",
    "# threshold\n",
    "save_filtered_images(directory_path, adj_threshold, output_directory_path)\n",
    "save_filtered_images(directory_path, threshold_equalized, output_directory_path)\n",
    "save_filtered_images(directory_path, adaptiveThreshold_gaussian, output_directory_path)\n",
    "save_filtered_images(directory_path, adaptiveThreshold_mean, output_directory_path)\n",
    "# erosion, dilation\n",
    "save_filtered_images(directory_path, erosion, output_directory_path)\n",
    "save_filtered_images(directory_path, diilation, output_directory_path)"
   ]
  },
  {
   "cell_type": "code",
   "execution_count": null,
   "metadata": {},
   "outputs": [],
   "source": []
  }
 ],
 "metadata": {
  "kernelspec": {
   "display_name": ".venv",
   "language": "python",
   "name": "python3"
  },
  "language_info": {
   "codemirror_mode": {
    "name": "ipython",
    "version": 3
   },
   "file_extension": ".py",
   "mimetype": "text/x-python",
   "name": "python",
   "nbconvert_exporter": "python",
   "pygments_lexer": "ipython3",
   "version": "3.10.10"
  },
  "orig_nbformat": 4
 },
 "nbformat": 4,
 "nbformat_minor": 2
}
